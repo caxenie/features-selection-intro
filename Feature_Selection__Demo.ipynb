{
 "cells": [
  {
   "cell_type": "markdown",
   "metadata": {},
   "source": [
    "# Feature Selection in der Data Science Pipeline\n",
    "## *am Beispiel von medizinischen Diagnosen (Brustkrebs Diagnose)*\n",
    "\n",
    "Wir haben den öffentlich verfügbaren Datensatz Breast Cancer Wisconsin verwendet und vom UCI Machine Learning Repository heruntergeladen. \n",
    "\n",
    "Repository: https://archive.ics.uci.edu/ml/datasets/Breast+Cancer+Wisconsin+%28Diagnostic%29"
   ]
  },
  {
   "cell_type": "markdown",
   "metadata": {},
   "source": [
    "![](./data.png)"
   ]
  },
  {
   "cell_type": "markdown",
   "metadata": {},
   "source": [
    "Unser Ziel ist es, herauszufinden, welche Merkmale bei der Vorhersage von bösartigem oder gutartigem Krebs am hilfreichsten sind, und zu klassifizieren, ob der Brustkrebs gutartig oder bösartig ist.\n",
    "\n",
    "Wir haben den öffentlich verfügbaren Datensatz Breast Cancer Wisconsin verwendet und vom UCI Machine Learning Repository heruntergeladen.\n",
    "\n",
    "Die typische Leistungsanalyse wird durchgeführt\n",
    "\n",
    "![](conf_matrix.png)"
   ]
  },
  {
   "cell_type": "code",
   "execution_count": null,
   "metadata": {
    "code_folding": [
     0
    ]
   },
   "outputs": [],
   "source": [
    "# Bibliotheken importieren\n",
    "from sklearn.datasets import load_breast_cancer\n",
    "from sklearn.datasets import make_classification\n",
    "from sklearn.preprocessing import MinMaxScaler\n",
    "from sklearn.model_selection import train_test_split\n",
    "from sklearn.preprocessing import LabelEncoder\n",
    "from xgboost import XGBClassifier\n",
    "from sklearn.metrics import accuracy_score\n",
    "from sklearn.metrics import classification_report\n",
    "from sklearn.metrics import confusion_matrix\n",
    "from cf_matrix import make_confusion_matrix\n",
    "from tensorflow.keras.models import Model\n",
    "from tensorflow.keras.layers import Input\n",
    "from tensorflow.keras.layers import Dense\n",
    "from tensorflow.keras.layers import LeakyReLU\n",
    "from tensorflow.keras.layers import BatchNormalization\n",
    "from tensorflow.keras.utils import plot_model\n",
    "from sklearn.model_selection import train_test_split, RepeatedStratifiedKFold, StratifiedKFold, GridSearchCV, cross_validate\n",
    "import matplotlib.pylab as pl\n",
    "import pandas as pd\n",
    "import numpy as np\n",
    "import sklearn.metrics as metrics\n",
    "import matplotlib.pyplot as plt\n",
    "from sklearn import preprocessing"
   ]
  },
  {
   "cell_type": "code",
   "execution_count": null,
   "metadata": {
    "code_folding": []
   },
   "outputs": [],
   "source": [
    "# Download des Krebs-Datensatzes \n",
    "import seaborn as sns\n",
    "from sklearn import preprocessing\n",
    "(X, y) = load_breast_cancer(return_X_y=True, as_frame=True)\n",
    "# Überblick über die Daten\n",
    "X"
   ]
  },
  {
   "cell_type": "markdown",
   "metadata": {},
   "source": [
    "### Baseline: Entscheidungsbäumen Klassifikator"
   ]
  },
  {
   "cell_type": "code",
   "execution_count": null,
   "metadata": {},
   "outputs": [],
   "source": [
    "# Baseline in der Performance mit Entscheidungsbäumen\n",
    "from sklearn.datasets import make_classification\n",
    "from sklearn.preprocessing import MinMaxScaler\n",
    "from sklearn.preprocessing import LabelEncoder\n",
    "from sklearn.model_selection import train_test_split\n",
    "from xgboost import XGBClassifier\n",
    "from sklearn.metrics import accuracy_score\n",
    "from sklearn.metrics import classification_report\n",
    "from sklearn.metrics import confusion_matrix\n",
    "from cf_matrix import make_confusion_matrix\n",
    "# Daten Skalierung\n",
    "t = MinMaxScaler()\n",
    "t.fit(X)\n",
    "X = t.transform(X)\n",
    "# Einfacher binärer Klassifikator\n",
    "model = XGBClassifier()\n",
    "#  definieren Sie das Verfahren der Kreuzvalidierung\n",
    "cv = RepeatedStratifiedKFold(n_splits=10, n_repeats=10, random_state=1)\n",
    "# Modell auswerten\n",
    "scores = cross_validate(estimator=model, X=X, y=y, cv=cv, n_jobs=-1, \n",
    "                        scoring=['accuracy', 'roc_auc', 'precision', 'recall', 'f1'])\n",
    "print('Accuracy: ', scores['test_accuracy'].mean())\n",
    "print('Precision: ', scores['test_precision'].mean())\n",
    "print('Recall: ', scores['test_recall'].mean())\n",
    "print('F1: ', scores['test_f1'].mean(), '\\n')"
   ]
  },
  {
   "cell_type": "markdown",
   "metadata": {},
   "source": [
    "# Feature-Selection Methoden\n",
    "\n",
    "Es ist üblich, statistische Maße des Korrelationstyps zwischen Eingangs- und Ausgangsvariablen als Grundlage für die Feature Selection zu verwenden.\n",
    "\n",
    "Die Wahl der statistischen Maße hängt also stark von den Datentypen der Variablen ab."
   ]
  },
  {
   "cell_type": "markdown",
   "metadata": {},
   "source": [
    "# $\\chi^2$\n",
    "\n",
    "Für den ersten Ansatz berechnen wir die Chi-Quadrat-Statistik zwischen jedem nicht-negativen Feature und der Klasse.\n",
    "\n",
    "Dieser Wert kann verwendet werden, um die n_features-Merkmale mit den höchsten Werten für die Test-Chi-Quadrat-Statistik aus dem Eingabe-Merkmalsvektor relativ zu den Klassen auszuwählen.\n",
    "\n",
    "Erinnern Sie sich, dass der Chi-Quadrat-Test die Abhängigkeit zwischen stochastischen Variablen misst, so dass wir damit die Features entfernen, die am wahrscheinlichsten unabhängig von der Klasse sind und daher für die Klassifizierung irrelevant sind."
   ]
  },
  {
   "cell_type": "code",
   "execution_count": null,
   "metadata": {
    "code_folding": []
   },
   "outputs": [],
   "source": [
    "# Download des Krebs-Datensatzes \n",
    "import seaborn as sns\n",
    "from sklearn import preprocessing\n",
    "(X, y) = load_breast_cancer(return_X_y=True, as_frame=True)"
   ]
  },
  {
   "cell_type": "code",
   "execution_count": null,
   "metadata": {
    "code_folding": []
   },
   "outputs": [],
   "source": [
    "# Chi-Quadrat Feature Selection\n",
    "from sklearn.feature_selection import SelectKBest\n",
    "from sklearn.feature_selection import chi2\n",
    "# Ermitteln der besten k = 20 Features \n",
    "chi_best = SelectKBest(chi2, k=20).fit(X, y)\n",
    "mask_features = chi_best.get_support() \n",
    "new_features = [] # The list of your K best features\n",
    "for bool, feature in zip(mask_features, X.columns):\n",
    "    if bool:\n",
    "        new_features.append(feature)\n",
    "X_new = chi_best.fit_transform(X, y)\n",
    "# Überblick über die filtrierte Daten\n",
    "new_features"
   ]
  },
  {
   "cell_type": "code",
   "execution_count": null,
   "metadata": {},
   "outputs": [],
   "source": [
    "# chi-quadrat Feature Selection in der Performance mit XGBoost Modell\n",
    "# Einfacher binärer Klassifikator\n",
    "model = XGBClassifier()\n",
    "#  definieren Sie das Verfahren der Kreuzvalidierung\n",
    "cv = RepeatedStratifiedKFold(n_splits=10, n_repeats=10, random_state=1)\n",
    "# Modell auswerten\n",
    "scores = cross_validate(estimator=model, X=X_new, y=y, cv=cv, n_jobs=-1, \n",
    "                        scoring=['accuracy', 'roc_auc', 'precision', 'recall', 'f1'])\n",
    "print('Accuracy: ', scores['test_accuracy'].mean())\n",
    "print('Precision: ', scores['test_precision'].mean())\n",
    "print('Recall: ', scores['test_recall'].mean())\n",
    "print('F1: ', scores['test_f1'].mean(), '\\n')"
   ]
  },
  {
   "cell_type": "markdown",
   "metadata": {},
   "source": [
    "# minimum-Redundancy-Maximum-Relevance (mRMR)\n",
    "\n",
    "Das Ziel ist es, eine Feature-Submenge auszuwählen, die die statistische Eigenschaft einer Ziel-Klassifikationsvariable am besten charakterisiert, unter der Einschränkung, dass diese Features untereinander so unähnlich wie möglich sind, aber der Klassifikationsvariable so wenig wie möglich ähnlich sind. \n",
    "\n",
    "Es gibt verschiedene Formen von mRMR, wobei \"Relevanz\" und \"Redundanz\" durch Mutual Information, Korrelation, t-Test/F-Test, Distanzen, etc. definiert wurden.\n"
   ]
  },
  {
   "cell_type": "code",
   "execution_count": null,
   "metadata": {},
   "outputs": [],
   "source": [
    "import pymrmr\n",
    "\n",
    "rel_feat = pymrmr.mRMR(X, 'MID', 20)\n",
    "X_new = X[X.columns.intersection(rel_feat)]\n",
    "rel_feat"
   ]
  },
  {
   "cell_type": "code",
   "execution_count": null,
   "metadata": {},
   "outputs": [],
   "source": [
    "# mRMR Feature Selection in der Performance mit XGBoost Modell\n",
    "# Einfacher binärer Klassifikator\n",
    "model = XGBClassifier()\n",
    "#  definieren Sie das Verfahren der Kreuzvalidierung\n",
    "cv = RepeatedStratifiedKFold(n_splits=10, n_repeats=10, random_state=1)\n",
    "# Modell auswerten\n",
    "scores = cross_validate(estimator=model, X=X_new, y=y, cv=cv, n_jobs=-1, \n",
    "                        scoring=['accuracy', 'roc_auc', 'precision', 'recall', 'f1'])\n",
    "print('Accuracy: ', scores['test_accuracy'].mean())\n",
    "print('Precision: ', scores['test_precision'].mean())\n",
    "print('Recall: ', scores['test_recall'].mean())\n",
    "print('F1: ', scores['test_f1'].mean(), '\\n')"
   ]
  },
  {
   "cell_type": "markdown",
   "metadata": {},
   "source": [
    "# Vergleichende Analyse der Feature Selection Methoden\n",
    "\n",
    "![](evaluation.png)"
   ]
  },
  {
   "cell_type": "markdown",
   "metadata": {},
   "source": [
    "Über diesen Github-Link können Sie auf den gesamten Code und die Daten des Projekts zugreifen.\n",
    "\n",
    "![](download_code.png)"
   ]
  },
  {
   "cell_type": "code",
   "execution_count": null,
   "metadata": {},
   "outputs": [],
   "source": []
  }
 ],
 "metadata": {
  "kernelspec": {
   "display_name": "Python 3",
   "language": "python",
   "name": "python3"
  },
  "language_info": {
   "codemirror_mode": {
    "name": "ipython",
    "version": 3
   },
   "file_extension": ".py",
   "mimetype": "text/x-python",
   "name": "python",
   "nbconvert_exporter": "python",
   "pygments_lexer": "ipython3",
   "version": "3.8.5"
  }
 },
 "nbformat": 4,
 "nbformat_minor": 4
}
